{
 "cells": [
  {
   "cell_type": "code",
   "execution_count": 1,
   "metadata": {},
   "outputs": [],
   "source": [
    "import pandas as pd\n",
    "import numpy as np\n",
    "import matplotlib.pyplot as plt\n",
    "import time\n",
    "from sklearn.model_selection import train_test_split\n",
    "from sklearn.naive_bayes import GaussianNB, BernoulliNB, MultinomialNB\n",
    "from sklearn.metrics import classification_report, confusion_matrix"
   ]
  },
  {
   "cell_type": "markdown",
   "metadata": {},
   "source": [
    "Contents : \n",
    "1. Probability Intro\n",
    "    - Saling Lepas (mutually exclusive)\n",
    "    - Saling Bebas (independent)\n",
    "    - Bersyarat (dependent)\n",
    "2. Conditional Probability (Bayes Theorem)\n",
    "3. Naive Bayes Algorithm:\n",
    "    - Multinomial Naive Bayes\n",
    "    - MNB Smoothing : Laplacian\n",
    "    - Gaussian Naive Bayes\n",
    "    - Bernoulli (optional)"
   ]
  },
  {
   "cell_type": "markdown",
   "metadata": {},
   "source": [
    "# Probability Intro"
   ]
  },
  {
   "cell_type": "markdown",
   "metadata": {},
   "source": [
    "Probability is measuring how likely an event will be occured, based on all occurences in observation. I assume all of you already familiar with the formula. \n",
    "\n",
    "$$ P(A) = \\frac{occurence of A}{all occurences}$$"
   ]
  },
  {
   "cell_type": "markdown",
   "metadata": {},
   "source": [
    "to determine the probability between two or more events, we need to know first what is the relations between the events. There are 3 events, named : \n"
   ]
  },
  {
   "cell_type": "markdown",
   "metadata": {},
   "source": [
    "## Mutually Exclusive Events\n"
   ]
  },
  {
   "cell_type": "markdown",
   "metadata": {},
   "source": [
    "<p style=\"text-align: justify\"> \n",
    "Mutually exclusive events happened when each events cannot coexist. There can be only one event occured.\n",
    "examples : \n",
    "- When you flip a coin, you will only get either head or tail, not both. The two events are : Getting a head over a flip, and getting a tail over a flip\n",
    "- When you're riding, you can only turn either right or left, not both. The two events are : Turning right, and turning left \n",
    "- When you're drawing a card from the complete deck, you can only get one of ace, numbers, jack, queen, or king. **Only one**. The events are : Draw an ace, draw a number, draw a jack, draw a queen, and draw a king. \n",
    "\n",
    "To find the probability between two or more mutually exclusive, is by simply adding them. \n",
    "example : \n",
    "\n",
    "In one single draw, the probability of drawing an ace **or** a king is $P(Ace) + P(King)$\n",
    "\n",
    "The sum of probability between mutally exclusive events are one. \n",
    "\n",
    "</p>\n"
   ]
  },
  {
   "cell_type": "markdown",
   "metadata": {},
   "source": [
    "$$\n",
    "    P(Ace) + P(Numbers) + P(Jack) + P(Queen) + P(King) = 1\\\\\n",
    "    \\frac{4}{52} +\\frac{36}{52} +\\frac{4}{52} +\\frac{4}{52} +\\frac{4}{52} = \\frac{52}{52}\\\\\n",
    "$$"
   ]
  },
  {
   "cell_type": "markdown",
   "metadata": {},
   "source": [
    "## Independent Events"
   ]
  },
  {
   "cell_type": "markdown",
   "metadata": {},
   "source": [
    "<p style=\"text-align: justify\"> \n",
    "Independent events happened when each events are not affecting the others. The most representative example of independent events are coin toss. Let's say, we toss a coin 100 times, and all the 100 flips give result of \"HEAD\". The probability of the 101th toss resulting head is still 1/2. This happened because all the tosses are isolated and gives no effects for the next tosses. \n",
    "\n",
    "There's a belief saying that if the same event happened consecutively (like, getting \"HEAD\" 100 times in a row), it tends to break. This also known as [gambler's fallacy](https://www.stat.berkeley.edu/~aldous/157/Papers/croson.pdf). However, the believe is incorrect due to coin toss is independent event, wich means one toss won't affect the others. \n",
    "\n",
    "To find the probability between independent events, is by multiplying them.\n",
    "\n",
    "Example:\n",
    "The probability of first coin toss giving a head **and** the second toss giving a tail is $P(Head) \\times P(Tail)$\n",
    "\n",
    "\n",
    " </p>"
   ]
  },
  {
   "cell_type": "markdown",
   "metadata": {},
   "source": [
    "## Dependent Events"
   ]
  },
  {
   "cell_type": "markdown",
   "metadata": {},
   "source": [
    "Dependent events are the opposite of independent event, wich means one event will affect the others. \n",
    "\n",
    "Example: The event of Someone passed a test can be affected by the fact that he/she finished reading the materials. \n",
    "\n",
    "Take a look at example below\n",
    "![](res/naive-bayes.png)"
   ]
  },
  {
   "cell_type": "markdown",
   "metadata": {},
   "source": [
    "<p style=\"text-align: justify\"> \n",
    "    \n",
    "From the statement above, we know that logically, if we correctly answered question A, it will increase our probability to be hired by google. But, what's the chance ? 5/100 ? or, how do we really calculate it ? \n",
    "\n",
    "Let's discuss this in the next session : Conditional Probability\n",
    "</p>"
   ]
  },
  {
   "cell_type": "markdown",
   "metadata": {},
   "source": [
    "# Conditional Probability \n"
   ]
  },
  {
   "cell_type": "markdown",
   "metadata": {},
   "source": [
    "<p style=\"text-align: justify\"> \n",
    "The answer of previous question is, Bayesian Theorem. Bayesian theorem is used to calculate the probability between dependent event, or also called this Conditional Probability. The formula to calculate the proability of event A given that event B occured is\n",
    "</p>"
   ]
  },
  {
   "cell_type": "markdown",
   "metadata": {},
   "source": [
    "$$\n",
    "\\begin{equation}\n",
    "P(A | B) = \\frac{P(A \\cap B)}{P(B)} \n",
    "\\label{eq:bayesian}\n",
    "\\tag{1}\n",
    "\\end{equation}\n",
    "$$\n",
    "\n",
    "Referring to euqation $\\eqref{eq:bayesian}$, we can get that \n",
    "$$\n",
    "\\begin{equation}\n",
    "P(A | B) \\times P(B) = P(A \\cap B)\n",
    "\\end{equation}\n",
    "$$\n",
    "\n",
    "$$\n",
    "\\begin{equation}\n",
    "P(B | A) \\times P(A) = P(B \\cap A)\n",
    "\\end{equation}\n",
    "$$\n",
    "\n",
    "Looking from the diagram, $P(B\\cap A) = P(A\\cap B)$, so we can can infer that\n",
    "\n",
    "$$\n",
    "\\begin{equation}\n",
    "P(A \\cap B) = P(A \\cap B) = P(B | A) \\times P(A)\n",
    "\\tag{2}\n",
    "\\end{equation}\n",
    "$$\n",
    "\n",
    "Hence, the final equation will look like this\n",
    "$$\n",
    "\\begin{equation}\n",
    "P(A | B) = \\frac{P(B | A) \\times P(A)}{P(B)} \n",
    "\\label{eq:bayesian_complete}\n",
    "\\tag{3}\n",
    "\\end{equation}\n",
    "$$\n",
    "\n",
    "Is equation $\\eqref{eq:bayesian}$ and $\\eqref{eq:bayesian_complete}$ the same ? we will find out. Let's answer the question from the previous section"
   ]
  },
  {
   "cell_type": "markdown",
   "metadata": {},
   "source": [
    "Let's say : \n",
    "- Event Hired By Google as H\n",
    "- Event Correctly answered question a as C\n",
    "\n",
    "$$\n",
    "\\begin{align*}\n",
    "|H| &= 20\\\\\n",
    "|C| &= 20\\\\\n",
    "|H\\cap C| &= 5 \\\\\n",
    "P(H) &= \\frac{20}{100}\\\\\n",
    "P(C) &= \\frac{20}{100}\\\\\n",
    "P(H \\cap C) = P(C \\cap H) &=\\frac{5}{100}\n",
    "\\end{align*}\n",
    "$$\n",
    "\n"
   ]
  },
  {
   "cell_type": "markdown",
   "metadata": {},
   "source": [
    "$$\n",
    "\\begin{align*}\n",
    "P(H | C) &= \\frac{P(H \\cap C)}{P(C)} &&= \\frac{P(C | H) \\times P(H)}{P(C)}\\\\\n",
    "&= \\frac{(\\frac{5}{100})}{(\\frac{20}{100})} &&= \\frac{(\\frac{5}{20}) \\times (\\frac{20}{100})}{(\\frac{20}{100})}\\\\\n",
    "&= \\frac{5}{20} &&= \\frac{5}{20}\\\\\n",
    "\\end{align*}\n",
    "$$"
   ]
  },
  {
   "cell_type": "markdown",
   "metadata": {},
   "source": [
    "It's easier for us to calculate the probability using venn diagram since it gives clear informations (actually, you can just look at it). The problem is we might find difficculty in drawing multi-variable into venn diagram"
   ]
  },
  {
   "cell_type": "markdown",
   "metadata": {},
   "source": [
    "# Naive Bayes Algorithm"
   ]
  },
  {
   "cell_type": "markdown",
   "metadata": {},
   "source": [
    "Naive bayes is classification algorithm that will classify data based on its highest probability. Generally, there are three Naive Bayes Classification Algorithm "
   ]
  },
  {
   "cell_type": "markdown",
   "metadata": {},
   "source": [
    "## Multinomial Naive Bayes\n",
    "\n",
    "<p style=\"text-align: justify\"> \n",
    "Multinomial Naive Bayes is used for categorical data, this is also the most common used algorithm of Naive Bayes due to it's simplicity. \n",
    "\n",
    "To exemplify the use of multinomial naive bayes, we will be using data from [Amazon Employee Access](https://www.kaggle.com/c/amazon-employee-access-challenge/data).\n",
    "The data consists of real historical data (categorical data) collected from 2010 & 2011.  Employees are manually allowed or denied access to resources over time. You must create an algorithm capable of learning from this historical data to predict approval/denial for an unseen set of employees. \n",
    "\n",
    "\n",
    "Let's first take a look at the data\n",
    "\n",
    "</p>"
   ]
  },
  {
   "cell_type": "code",
   "execution_count": 2,
   "metadata": {},
   "outputs": [
    {
     "data": {
      "text/html": [
       "<div>\n",
       "<style scoped>\n",
       "    .dataframe tbody tr th:only-of-type {\n",
       "        vertical-align: middle;\n",
       "    }\n",
       "\n",
       "    .dataframe tbody tr th {\n",
       "        vertical-align: top;\n",
       "    }\n",
       "\n",
       "    .dataframe thead th {\n",
       "        text-align: right;\n",
       "    }\n",
       "</style>\n",
       "<table border=\"1\" class=\"dataframe\">\n",
       "  <thead>\n",
       "    <tr style=\"text-align: right;\">\n",
       "      <th></th>\n",
       "      <th>ACTION</th>\n",
       "      <th>RESOURCE</th>\n",
       "      <th>MGR_ID</th>\n",
       "      <th>ROLE_ROLLUP_1</th>\n",
       "      <th>ROLE_ROLLUP_2</th>\n",
       "      <th>ROLE_DEPTNAME</th>\n",
       "      <th>ROLE_TITLE</th>\n",
       "      <th>ROLE_FAMILY_DESC</th>\n",
       "      <th>ROLE_FAMILY</th>\n",
       "      <th>ROLE_CODE</th>\n",
       "    </tr>\n",
       "  </thead>\n",
       "  <tbody>\n",
       "    <tr>\n",
       "      <td>0</td>\n",
       "      <td>1</td>\n",
       "      <td>39353</td>\n",
       "      <td>85475</td>\n",
       "      <td>117961</td>\n",
       "      <td>118300</td>\n",
       "      <td>123472</td>\n",
       "      <td>117905</td>\n",
       "      <td>117906</td>\n",
       "      <td>290919</td>\n",
       "      <td>117908</td>\n",
       "    </tr>\n",
       "    <tr>\n",
       "      <td>1</td>\n",
       "      <td>1</td>\n",
       "      <td>17183</td>\n",
       "      <td>1540</td>\n",
       "      <td>117961</td>\n",
       "      <td>118343</td>\n",
       "      <td>123125</td>\n",
       "      <td>118536</td>\n",
       "      <td>118536</td>\n",
       "      <td>308574</td>\n",
       "      <td>118539</td>\n",
       "    </tr>\n",
       "    <tr>\n",
       "      <td>2</td>\n",
       "      <td>1</td>\n",
       "      <td>36724</td>\n",
       "      <td>14457</td>\n",
       "      <td>118219</td>\n",
       "      <td>118220</td>\n",
       "      <td>117884</td>\n",
       "      <td>117879</td>\n",
       "      <td>267952</td>\n",
       "      <td>19721</td>\n",
       "      <td>117880</td>\n",
       "    </tr>\n",
       "    <tr>\n",
       "      <td>3</td>\n",
       "      <td>1</td>\n",
       "      <td>36135</td>\n",
       "      <td>5396</td>\n",
       "      <td>117961</td>\n",
       "      <td>118343</td>\n",
       "      <td>119993</td>\n",
       "      <td>118321</td>\n",
       "      <td>240983</td>\n",
       "      <td>290919</td>\n",
       "      <td>118322</td>\n",
       "    </tr>\n",
       "    <tr>\n",
       "      <td>4</td>\n",
       "      <td>1</td>\n",
       "      <td>42680</td>\n",
       "      <td>5905</td>\n",
       "      <td>117929</td>\n",
       "      <td>117930</td>\n",
       "      <td>119569</td>\n",
       "      <td>119323</td>\n",
       "      <td>123932</td>\n",
       "      <td>19793</td>\n",
       "      <td>119325</td>\n",
       "    </tr>\n",
       "  </tbody>\n",
       "</table>\n",
       "</div>"
      ],
      "text/plain": [
       "   ACTION  RESOURCE  MGR_ID  ROLE_ROLLUP_1  ROLE_ROLLUP_2  ROLE_DEPTNAME  \\\n",
       "0       1     39353   85475         117961         118300         123472   \n",
       "1       1     17183    1540         117961         118343         123125   \n",
       "2       1     36724   14457         118219         118220         117884   \n",
       "3       1     36135    5396         117961         118343         119993   \n",
       "4       1     42680    5905         117929         117930         119569   \n",
       "\n",
       "   ROLE_TITLE  ROLE_FAMILY_DESC  ROLE_FAMILY  ROLE_CODE  \n",
       "0      117905            117906       290919     117908  \n",
       "1      118536            118536       308574     118539  \n",
       "2      117879            267952        19721     117880  \n",
       "3      118321            240983       290919     118322  \n",
       "4      119323            123932        19793     119325  "
      ]
     },
     "execution_count": 2,
     "metadata": {},
     "output_type": "execute_result"
    }
   ],
   "source": [
    "employee = pd.read_csv('data/amazon-employee-access-challenge/train.csv')\n",
    "employee.head()"
   ]
  },
  {
   "cell_type": "markdown",
   "metadata": {},
   "source": [
    "| Column Name      | Description                                                                                                       |   |   |   |\n",
    "|------------------|-------------------------------------------------------------------------------------------------------------------|---|---|---|\n",
    "| ACTION           | ACTION is 1 if the resource was approved, 0 if the resource was not                                               |   |   |   |\n",
    "| RESOURCE         | An ID for each resource                                                                                           |   |   |   |\n",
    "| MGR_ID           | The EMPLOYEE ID of the manager of the current EMPLOYEE ID record; an employee may have only one manager at a time |   |   |   |\n",
    "| ROLE_ROLLUP_1    | Company role grouping category id 1 (e.g. US Engineering)                                                         |   |   |   |\n",
    "| ROLE_ROLLUP_2    | Company role grouping category id 2 (e.g. US Retail)                                                              |   |   |   |\n",
    "| ROLE_DEPTNAME    | Company role department description (e.g. Retail)                                                                 |   |   |   |\n",
    "| ROLE_TITLE       | Company role business title description (e.g. Senior Engineering Retail Manager)                                  |   |   |   |\n",
    "| ROLE_FAMILY_DESC | Company role family extended description (e.g. Retail Manager, Software Engineering)                              |   |   |   |\n",
    "| ROLE_FAMILY      | Company role family description (e.g. Retail Manager)                                                             |   |   |   |\n",
    "| ROLE_CODE        | Company role code; this code is unique to each role (e.g. Manager)                                                |   |   |   |"
   ]
  },
  {
   "cell_type": "markdown",
   "metadata": {},
   "source": [
    "First, let's split the data into : Train, Validation, Test. Luckily, we already have a test data provided from the repository."
   ]
  },
  {
   "cell_type": "code",
   "execution_count": 3,
   "metadata": {},
   "outputs": [],
   "source": [
    "train, valid = train_test_split(employee, test_size=0.2, random_state=int(time.time()))\n",
    "X_train = train.loc[:, employee.columns != 'ACTION'].astype(str)\n",
    "y_train = train.loc[:, 'ACTION']\n",
    "X_valid = valid.loc[:, employee.columns != 'ACTION'].astype(str)\n",
    "y_valid = valid.loc[:, 'ACTION']\n",
    "X_test = pd.read_csv('data/amazon-employee-access-challenge/test.csv').astype(str).drop(columns=['id'])"
   ]
  },
  {
   "cell_type": "code",
   "execution_count": 4,
   "metadata": {},
   "outputs": [
    {
     "data": {
      "text/plain": [
       "1    24678\n",
       "0     1537\n",
       "Name: ACTION, dtype: int64"
      ]
     },
     "execution_count": 4,
     "metadata": {},
     "output_type": "execute_result"
    }
   ],
   "source": [
    "y_train.value_counts()"
   ]
  },
  {
   "cell_type": "code",
   "execution_count": 5,
   "metadata": {},
   "outputs": [
    {
     "data": {
      "text/html": [
       "<div>\n",
       "<style scoped>\n",
       "    .dataframe tbody tr th:only-of-type {\n",
       "        vertical-align: middle;\n",
       "    }\n",
       "\n",
       "    .dataframe tbody tr th {\n",
       "        vertical-align: top;\n",
       "    }\n",
       "\n",
       "    .dataframe thead th {\n",
       "        text-align: right;\n",
       "    }\n",
       "</style>\n",
       "<table border=\"1\" class=\"dataframe\">\n",
       "  <thead>\n",
       "    <tr style=\"text-align: right;\">\n",
       "      <th></th>\n",
       "      <th>RESOURCE</th>\n",
       "      <th>MGR_ID</th>\n",
       "      <th>ROLE_ROLLUP_1</th>\n",
       "      <th>ROLE_ROLLUP_2</th>\n",
       "      <th>ROLE_DEPTNAME</th>\n",
       "      <th>ROLE_TITLE</th>\n",
       "      <th>ROLE_FAMILY_DESC</th>\n",
       "      <th>ROLE_FAMILY</th>\n",
       "      <th>ROLE_CODE</th>\n",
       "    </tr>\n",
       "  </thead>\n",
       "  <tbody>\n",
       "    <tr>\n",
       "      <td>21808</td>\n",
       "      <td>75078</td>\n",
       "      <td>41782</td>\n",
       "      <td>118315</td>\n",
       "      <td>118463</td>\n",
       "      <td>118522</td>\n",
       "      <td>120765</td>\n",
       "      <td>120765</td>\n",
       "      <td>118467</td>\n",
       "      <td>120767</td>\n",
       "    </tr>\n",
       "    <tr>\n",
       "      <td>30420</td>\n",
       "      <td>74355</td>\n",
       "      <td>1350</td>\n",
       "      <td>117961</td>\n",
       "      <td>118052</td>\n",
       "      <td>120096</td>\n",
       "      <td>117905</td>\n",
       "      <td>117906</td>\n",
       "      <td>290919</td>\n",
       "      <td>117908</td>\n",
       "    </tr>\n",
       "    <tr>\n",
       "      <td>3729</td>\n",
       "      <td>74038</td>\n",
       "      <td>5093</td>\n",
       "      <td>117961</td>\n",
       "      <td>118446</td>\n",
       "      <td>124170</td>\n",
       "      <td>118396</td>\n",
       "      <td>233714</td>\n",
       "      <td>118398</td>\n",
       "      <td>118399</td>\n",
       "    </tr>\n",
       "    <tr>\n",
       "      <td>13012</td>\n",
       "      <td>45610</td>\n",
       "      <td>21556</td>\n",
       "      <td>118006</td>\n",
       "      <td>118007</td>\n",
       "      <td>117941</td>\n",
       "      <td>117899</td>\n",
       "      <td>117897</td>\n",
       "      <td>19721</td>\n",
       "      <td>117900</td>\n",
       "    </tr>\n",
       "    <tr>\n",
       "      <td>3227</td>\n",
       "      <td>42085</td>\n",
       "      <td>21340</td>\n",
       "      <td>11146</td>\n",
       "      <td>118491</td>\n",
       "      <td>117920</td>\n",
       "      <td>118568</td>\n",
       "      <td>131694</td>\n",
       "      <td>19721</td>\n",
       "      <td>118570</td>\n",
       "    </tr>\n",
       "  </tbody>\n",
       "</table>\n",
       "</div>"
      ],
      "text/plain": [
       "      RESOURCE MGR_ID ROLE_ROLLUP_1 ROLE_ROLLUP_2 ROLE_DEPTNAME ROLE_TITLE  \\\n",
       "21808    75078  41782        118315        118463        118522     120765   \n",
       "30420    74355   1350        117961        118052        120096     117905   \n",
       "3729     74038   5093        117961        118446        124170     118396   \n",
       "13012    45610  21556        118006        118007        117941     117899   \n",
       "3227     42085  21340         11146        118491        117920     118568   \n",
       "\n",
       "      ROLE_FAMILY_DESC ROLE_FAMILY ROLE_CODE  \n",
       "21808           120765      118467    120767  \n",
       "30420           117906      290919    117908  \n",
       "3729            233714      118398    118399  \n",
       "13012           117897       19721    117900  \n",
       "3227            131694       19721    118570  "
      ]
     },
     "execution_count": 5,
     "metadata": {},
     "output_type": "execute_result"
    }
   ],
   "source": [
    "X_train.head()"
   ]
  },
  {
   "cell_type": "code",
   "execution_count": 6,
   "metadata": {},
   "outputs": [
    {
     "data": {
      "text/html": [
       "<div>\n",
       "<style scoped>\n",
       "    .dataframe tbody tr th:only-of-type {\n",
       "        vertical-align: middle;\n",
       "    }\n",
       "\n",
       "    .dataframe tbody tr th {\n",
       "        vertical-align: top;\n",
       "    }\n",
       "\n",
       "    .dataframe thead th {\n",
       "        text-align: right;\n",
       "    }\n",
       "</style>\n",
       "<table border=\"1\" class=\"dataframe\">\n",
       "  <thead>\n",
       "    <tr style=\"text-align: right;\">\n",
       "      <th></th>\n",
       "      <th>RESOURCE</th>\n",
       "      <th>MGR_ID</th>\n",
       "      <th>ROLE_ROLLUP_1</th>\n",
       "      <th>ROLE_ROLLUP_2</th>\n",
       "      <th>ROLE_DEPTNAME</th>\n",
       "      <th>ROLE_TITLE</th>\n",
       "      <th>ROLE_FAMILY_DESC</th>\n",
       "      <th>ROLE_FAMILY</th>\n",
       "      <th>ROLE_CODE</th>\n",
       "    </tr>\n",
       "  </thead>\n",
       "  <tbody>\n",
       "    <tr>\n",
       "      <td>0</td>\n",
       "      <td>32642</td>\n",
       "      <td>7792</td>\n",
       "      <td>118573</td>\n",
       "      <td>118574</td>\n",
       "      <td>117945</td>\n",
       "      <td>136261</td>\n",
       "      <td>128463</td>\n",
       "      <td>292795</td>\n",
       "      <td>119082</td>\n",
       "    </tr>\n",
       "    <tr>\n",
       "      <td>1</td>\n",
       "      <td>4696</td>\n",
       "      <td>14638</td>\n",
       "      <td>117961</td>\n",
       "      <td>118343</td>\n",
       "      <td>118514</td>\n",
       "      <td>118321</td>\n",
       "      <td>289122</td>\n",
       "      <td>255851</td>\n",
       "      <td>118322</td>\n",
       "    </tr>\n",
       "    <tr>\n",
       "      <td>2</td>\n",
       "      <td>22662</td>\n",
       "      <td>1760</td>\n",
       "      <td>118887</td>\n",
       "      <td>118888</td>\n",
       "      <td>120171</td>\n",
       "      <td>118396</td>\n",
       "      <td>255118</td>\n",
       "      <td>118398</td>\n",
       "      <td>118399</td>\n",
       "    </tr>\n",
       "    <tr>\n",
       "      <td>3</td>\n",
       "      <td>75078</td>\n",
       "      <td>7576</td>\n",
       "      <td>117961</td>\n",
       "      <td>118052</td>\n",
       "      <td>120671</td>\n",
       "      <td>118321</td>\n",
       "      <td>117906</td>\n",
       "      <td>257051</td>\n",
       "      <td>118322</td>\n",
       "    </tr>\n",
       "    <tr>\n",
       "      <td>4</td>\n",
       "      <td>39879</td>\n",
       "      <td>55668</td>\n",
       "      <td>117902</td>\n",
       "      <td>118041</td>\n",
       "      <td>117945</td>\n",
       "      <td>135951</td>\n",
       "      <td>134458</td>\n",
       "      <td>19776</td>\n",
       "      <td>119082</td>\n",
       "    </tr>\n",
       "  </tbody>\n",
       "</table>\n",
       "</div>"
      ],
      "text/plain": [
       "  RESOURCE MGR_ID ROLE_ROLLUP_1 ROLE_ROLLUP_2 ROLE_DEPTNAME ROLE_TITLE  \\\n",
       "0    32642   7792        118573        118574        117945     136261   \n",
       "1     4696  14638        117961        118343        118514     118321   \n",
       "2    22662   1760        118887        118888        120171     118396   \n",
       "3    75078   7576        117961        118052        120671     118321   \n",
       "4    39879  55668        117902        118041        117945     135951   \n",
       "\n",
       "  ROLE_FAMILY_DESC ROLE_FAMILY ROLE_CODE  \n",
       "0           128463      292795    119082  \n",
       "1           289122      255851    118322  \n",
       "2           255118      118398    118399  \n",
       "3           117906      257051    118322  \n",
       "4           134458       19776    119082  "
      ]
     },
     "execution_count": 6,
     "metadata": {},
     "output_type": "execute_result"
    }
   ],
   "source": [
    "X_test.head()"
   ]
  },
  {
   "cell_type": "markdown",
   "metadata": {},
   "source": [
    "<p style=\"text-align: justify\"> \n",
    "It's shown from the data that we have pretty imbalance distribution. Now let's continue to how Naive Bayes Algorithm works. \n",
    "\n",
    "Based on the data, there are 9 predictors named RESOURCE, MGR_ID, ROLE_ROLLUP_1, and so on. Let's call these predictor as $X$. So we will find the probability of $X$ will be classified as $1$ and $0$. In other word, we will compare $P(1|X)$ and $P(0|X)$. If $P(1|X) > P(0|X)$ then we will classify $X$ as class $1$, vice versa.\n",
    "\n",
    "</p>"
   ]
  },
  {
   "cell_type": "markdown",
   "metadata": {},
   "source": [
    "$$\n",
    "\\begin{equation}\n",
    "P(1| X): P(0|X)\\\\\n",
    "\\frac{P(X | 1) \\times P(1)}{P(X)} : \\frac{P(X | 0) \\times P(0)}{P(X)}\\\\\n",
    "P(X | 1) \\times P(1) : P(X | 0) \\times P(0)\\\\\n",
    "\\tag{4}\n",
    "\\end{equation}\n",
    "$$"
   ]
  },
  {
   "cell_type": "markdown",
   "metadata": {},
   "source": [
    "Now, let's break the $P(X|1)$ or $P(X|0)$\n",
    "\n",
    "$$P(X|1) = P(RESOURCE=x_1, MGR_ID=x_2, ... , ROLE_CODE=x_9 | 1)$$\n",
    "\n",
    "Wich, in naive bayes, we will strongly assume that each variables/predictor are **independet**. This means we assume that each variable doen't affect each other. Thus, the final probability for $P(X|1)$ can be calculated as below\n",
    "\n",
    "$$P(X|1) = P(RESOURCE=x_1|1) \\times P(MGR\\_ID=x_2|1) \\times ... \\times P(ROLE\\_CODE=x_9 | 1)$$\n",
    "\n",
    "Please note that this assumption is so strong that i'ts unlikely to find a predictor that independent each other. This is why this algorithm called **Naive** Bayes, naively using assumption on bayesian theorem. \n",
    "\n"
   ]
  },
  {
   "cell_type": "markdown",
   "metadata": {},
   "source": [
    "## Smoothing"
   ]
  },
  {
   "cell_type": "markdown",
   "metadata": {},
   "source": [
    "<p style=\"text-align: justify\"> \n",
    "In multinomial naive bayes, there's a possibility that a variable's value has no occurences in data train. This phenomenom will resulting in zero probability problem, where because of one zero occurences of one variable's value, the final probability will be zero. The most common way to deal with this problem is by using **laplace smoothing** (It's different from laplacian smoothing). Laplace smoothing works by virtually adding the occurences (usually 1) of the data. Or, just simply add 1 to each nominator and denominator so that the probability won't be zero.\n",
    "\n",
    "Example:\n",
    "\n",
    "Before smoothing : \n",
    "$P (A) = 0/100$\n",
    "\n",
    "After smoothing\n",
    "$P (A) = 1/101$\n",
    "\n",
    "Notes: By default, sklearn apply laplace smoothing to the naive bayes algorithm.\n",
    "\n",
    "We have talked about how the algorithm works, now let's just call it using scikit-learn library\n",
    "\n",
    "</p>"
   ]
  },
  {
   "cell_type": "code",
   "execution_count": 9,
   "metadata": {},
   "outputs": [],
   "source": [
    "mnb = MultinomialNB()\n",
    "mnb.fit(X_train.values, y_train.values.flatten())\n",
    "y_mnb = mnb.predict(X_valid)"
   ]
  },
  {
   "cell_type": "code",
   "execution_count": 10,
   "metadata": {},
   "outputs": [
    {
     "name": "stdout",
     "output_type": "stream",
     "text": [
      "[[ 207  153]\n",
      " [3245 2949]]\n",
      "TP : 2949 \n",
      "TN : 207 \n",
      "FP : 153\n",
      "FN : 3245\n"
     ]
    }
   ],
   "source": [
    "print(confusion_matrix(y_valid, y_mnb))\n",
    "tn, fp, fn, tp = confusion_matrix(y_valid, y_mnb).ravel()\n",
    "print (\"TP : {} \\nTN : {} \\nFP : {}\\nFN : {}\".format(tp, tn, fp, fn))"
   ]
  },
  {
   "cell_type": "code",
   "execution_count": 11,
   "metadata": {},
   "outputs": [],
   "source": [
    "# rec = tp/(tp + fn)\n",
    "# prec = tp/(tp + fp)"
   ]
  },
  {
   "cell_type": "code",
   "execution_count": 12,
   "metadata": {},
   "outputs": [
    {
     "name": "stdout",
     "output_type": "stream",
     "text": [
      "              precision    recall  f1-score   support\n",
      "\n",
      "     Class 0       0.06      0.57      0.11       360\n",
      "     Class 1       0.95      0.48      0.63      6194\n",
      "\n",
      "    accuracy                           0.48      6554\n",
      "   macro avg       0.51      0.53      0.37      6554\n",
      "weighted avg       0.90      0.48      0.61      6554\n",
      "\n"
     ]
    }
   ],
   "source": [
    "target_names = ['Class 0', 'Class 1']\n",
    "print(classification_report(y_valid, y_mnb, target_names=target_names))"
   ]
  },
  {
   "cell_type": "markdown",
   "metadata": {},
   "source": [
    "<p style=\"text-align: justify\"> \n",
    "The macro average measure the performance for each class equally. This will do just $\\frac{\\sum_{i=0}^{n}{f(c_i)}}{n}$\n",
    "\n",
    "While the weighted average or micro average consider the portion of each class $\\sum_{i=0}^{n}{f(c_i) \\times P(C_i)}$\n",
    "\n",
    "Since our positive class is 1, let's take a look at it's performance : 0.94 Precision, 0.64 Recall, 0.76 f-1, and 0.62 of accuracy. \n",
    "In this case, we don't want any person that actually have no access but mistakenly classified as a person having the access. This means, we want to reduce the false positive rate. So, we will use a metric that will penalize our model each time it gives false positive, Precision. And since the precision is good, well, let's say this model is good. \n",
    "\n",
    "If you're still find it difficult when to choose the appropriate metric score, please check our article : [Recall or Precision and when to use it](google.com)\n",
    "</p>"
   ]
  },
  {
   "cell_type": "markdown",
   "metadata": {},
   "source": [
    "## Gaussian Naive Bayes\n",
    "\n",
    "<p style=\"text-align: justify\">\n",
    "![](res/Titanic.png)\n",
    "\n",
    "\n",
    "You might asking how to calculate the probability of non categorical or continuous value? Actually there are a way of changing a continous number into categorical. The most common way to do it is by binning. Binning means we create several range, and whenever the value fall within a range, it belongs to it. For example, we can bin the data into 4 categorical value based on quartiles. A bin where value < Q1, A bin where value within Q1 to Q2, A bin where value within Q2 to Q3, and a bin where value > Q3. Then, we can do the classification using Multinomial Naive Bayes. \n",
    "\n",
    "The second way, is to change the probability function using Gaussian function. This means we will assume that the **values is normally distributed**. If we go back a little to practical statistic course, we can find the probability of value x if the data is normally distributed with the formula \n",
    "\n",
    "$$\n",
    "\\begin{equation}\n",
    "    f(x,\\mu,\\sigma^2) = \\frac{1}{\\sqrt{2 \\pi \\sigma^2}} \\times e^{-\\frac{(x - \\mu)^2}{2\\sigma^2}}\n",
    "\\tag{5}\n",
    "\\end{equation}\n",
    "$$\n",
    "\n",
    "where $x$ is the predictor value, $\\mu$ is the mean of population (please remember the population might change due to conditional changes). That's all the differences. Let's try to implement the Gaussian Naive Bayes Classification using the most famous data for beginner data science - [Titanic : Machine Learning From Disaster](https://www.kaggle.com/c/titanic/data)\n",
    "\n",
    "</p>"
   ]
  },
  {
   "cell_type": "code",
   "execution_count": 13,
   "metadata": {},
   "outputs": [
    {
     "data": {
      "text/html": [
       "<div>\n",
       "<style scoped>\n",
       "    .dataframe tbody tr th:only-of-type {\n",
       "        vertical-align: middle;\n",
       "    }\n",
       "\n",
       "    .dataframe tbody tr th {\n",
       "        vertical-align: top;\n",
       "    }\n",
       "\n",
       "    .dataframe thead th {\n",
       "        text-align: right;\n",
       "    }\n",
       "</style>\n",
       "<table border=\"1\" class=\"dataframe\">\n",
       "  <thead>\n",
       "    <tr style=\"text-align: right;\">\n",
       "      <th></th>\n",
       "      <th>PassengerId</th>\n",
       "      <th>Survived</th>\n",
       "      <th>Pclass</th>\n",
       "      <th>Name</th>\n",
       "      <th>Sex</th>\n",
       "      <th>Age</th>\n",
       "      <th>SibSp</th>\n",
       "      <th>Parch</th>\n",
       "      <th>Ticket</th>\n",
       "      <th>Fare</th>\n",
       "      <th>Cabin</th>\n",
       "      <th>Embarked</th>\n",
       "    </tr>\n",
       "  </thead>\n",
       "  <tbody>\n",
       "    <tr>\n",
       "      <td>0</td>\n",
       "      <td>1</td>\n",
       "      <td>0</td>\n",
       "      <td>3</td>\n",
       "      <td>Braund, Mr. Owen Harris</td>\n",
       "      <td>male</td>\n",
       "      <td>22.0</td>\n",
       "      <td>1</td>\n",
       "      <td>0</td>\n",
       "      <td>A/5 21171</td>\n",
       "      <td>7.2500</td>\n",
       "      <td>NaN</td>\n",
       "      <td>S</td>\n",
       "    </tr>\n",
       "    <tr>\n",
       "      <td>1</td>\n",
       "      <td>2</td>\n",
       "      <td>1</td>\n",
       "      <td>1</td>\n",
       "      <td>Cumings, Mrs. John Bradley (Florence Briggs Th...</td>\n",
       "      <td>female</td>\n",
       "      <td>38.0</td>\n",
       "      <td>1</td>\n",
       "      <td>0</td>\n",
       "      <td>PC 17599</td>\n",
       "      <td>71.2833</td>\n",
       "      <td>C85</td>\n",
       "      <td>C</td>\n",
       "    </tr>\n",
       "    <tr>\n",
       "      <td>2</td>\n",
       "      <td>3</td>\n",
       "      <td>1</td>\n",
       "      <td>3</td>\n",
       "      <td>Heikkinen, Miss. Laina</td>\n",
       "      <td>female</td>\n",
       "      <td>26.0</td>\n",
       "      <td>0</td>\n",
       "      <td>0</td>\n",
       "      <td>STON/O2. 3101282</td>\n",
       "      <td>7.9250</td>\n",
       "      <td>NaN</td>\n",
       "      <td>S</td>\n",
       "    </tr>\n",
       "    <tr>\n",
       "      <td>3</td>\n",
       "      <td>4</td>\n",
       "      <td>1</td>\n",
       "      <td>1</td>\n",
       "      <td>Futrelle, Mrs. Jacques Heath (Lily May Peel)</td>\n",
       "      <td>female</td>\n",
       "      <td>35.0</td>\n",
       "      <td>1</td>\n",
       "      <td>0</td>\n",
       "      <td>113803</td>\n",
       "      <td>53.1000</td>\n",
       "      <td>C123</td>\n",
       "      <td>S</td>\n",
       "    </tr>\n",
       "    <tr>\n",
       "      <td>4</td>\n",
       "      <td>5</td>\n",
       "      <td>0</td>\n",
       "      <td>3</td>\n",
       "      <td>Allen, Mr. William Henry</td>\n",
       "      <td>male</td>\n",
       "      <td>35.0</td>\n",
       "      <td>0</td>\n",
       "      <td>0</td>\n",
       "      <td>373450</td>\n",
       "      <td>8.0500</td>\n",
       "      <td>NaN</td>\n",
       "      <td>S</td>\n",
       "    </tr>\n",
       "  </tbody>\n",
       "</table>\n",
       "</div>"
      ],
      "text/plain": [
       "   PassengerId  Survived  Pclass  \\\n",
       "0            1         0       3   \n",
       "1            2         1       1   \n",
       "2            3         1       3   \n",
       "3            4         1       1   \n",
       "4            5         0       3   \n",
       "\n",
       "                                                Name     Sex   Age  SibSp  \\\n",
       "0                            Braund, Mr. Owen Harris    male  22.0      1   \n",
       "1  Cumings, Mrs. John Bradley (Florence Briggs Th...  female  38.0      1   \n",
       "2                             Heikkinen, Miss. Laina  female  26.0      0   \n",
       "3       Futrelle, Mrs. Jacques Heath (Lily May Peel)  female  35.0      1   \n",
       "4                           Allen, Mr. William Henry    male  35.0      0   \n",
       "\n",
       "   Parch            Ticket     Fare Cabin Embarked  \n",
       "0      0         A/5 21171   7.2500   NaN        S  \n",
       "1      0          PC 17599  71.2833   C85        C  \n",
       "2      0  STON/O2. 3101282   7.9250   NaN        S  \n",
       "3      0            113803  53.1000  C123        S  \n",
       "4      0            373450   8.0500   NaN        S  "
      ]
     },
     "execution_count": 13,
     "metadata": {},
     "output_type": "execute_result"
    }
   ],
   "source": [
    "titanic = pd.read_csv(\"data/titanic/train.csv\")\n",
    "test = pd.read_csv(\"data/titanic/test.csv\")\n",
    "titanic.head()"
   ]
  },
  {
   "cell_type": "code",
   "execution_count": 14,
   "metadata": {},
   "outputs": [
    {
     "data": {
      "text/html": [
       "<div>\n",
       "<style scoped>\n",
       "    .dataframe tbody tr th:only-of-type {\n",
       "        vertical-align: middle;\n",
       "    }\n",
       "\n",
       "    .dataframe tbody tr th {\n",
       "        vertical-align: top;\n",
       "    }\n",
       "\n",
       "    .dataframe thead th {\n",
       "        text-align: right;\n",
       "    }\n",
       "</style>\n",
       "<table border=\"1\" class=\"dataframe\">\n",
       "  <thead>\n",
       "    <tr style=\"text-align: right;\">\n",
       "      <th></th>\n",
       "      <th>PassengerId</th>\n",
       "      <th>Pclass</th>\n",
       "      <th>Name</th>\n",
       "      <th>Sex</th>\n",
       "      <th>Age</th>\n",
       "      <th>SibSp</th>\n",
       "      <th>Parch</th>\n",
       "      <th>Ticket</th>\n",
       "      <th>Fare</th>\n",
       "      <th>Cabin</th>\n",
       "      <th>Embarked</th>\n",
       "    </tr>\n",
       "  </thead>\n",
       "  <tbody>\n",
       "    <tr>\n",
       "      <td>0</td>\n",
       "      <td>892</td>\n",
       "      <td>3</td>\n",
       "      <td>Kelly, Mr. James</td>\n",
       "      <td>male</td>\n",
       "      <td>34.5</td>\n",
       "      <td>0</td>\n",
       "      <td>0</td>\n",
       "      <td>330911</td>\n",
       "      <td>7.8292</td>\n",
       "      <td>NaN</td>\n",
       "      <td>Q</td>\n",
       "    </tr>\n",
       "    <tr>\n",
       "      <td>1</td>\n",
       "      <td>893</td>\n",
       "      <td>3</td>\n",
       "      <td>Wilkes, Mrs. James (Ellen Needs)</td>\n",
       "      <td>female</td>\n",
       "      <td>47.0</td>\n",
       "      <td>1</td>\n",
       "      <td>0</td>\n",
       "      <td>363272</td>\n",
       "      <td>7.0000</td>\n",
       "      <td>NaN</td>\n",
       "      <td>S</td>\n",
       "    </tr>\n",
       "    <tr>\n",
       "      <td>2</td>\n",
       "      <td>894</td>\n",
       "      <td>2</td>\n",
       "      <td>Myles, Mr. Thomas Francis</td>\n",
       "      <td>male</td>\n",
       "      <td>62.0</td>\n",
       "      <td>0</td>\n",
       "      <td>0</td>\n",
       "      <td>240276</td>\n",
       "      <td>9.6875</td>\n",
       "      <td>NaN</td>\n",
       "      <td>Q</td>\n",
       "    </tr>\n",
       "    <tr>\n",
       "      <td>3</td>\n",
       "      <td>895</td>\n",
       "      <td>3</td>\n",
       "      <td>Wirz, Mr. Albert</td>\n",
       "      <td>male</td>\n",
       "      <td>27.0</td>\n",
       "      <td>0</td>\n",
       "      <td>0</td>\n",
       "      <td>315154</td>\n",
       "      <td>8.6625</td>\n",
       "      <td>NaN</td>\n",
       "      <td>S</td>\n",
       "    </tr>\n",
       "    <tr>\n",
       "      <td>4</td>\n",
       "      <td>896</td>\n",
       "      <td>3</td>\n",
       "      <td>Hirvonen, Mrs. Alexander (Helga E Lindqvist)</td>\n",
       "      <td>female</td>\n",
       "      <td>22.0</td>\n",
       "      <td>1</td>\n",
       "      <td>1</td>\n",
       "      <td>3101298</td>\n",
       "      <td>12.2875</td>\n",
       "      <td>NaN</td>\n",
       "      <td>S</td>\n",
       "    </tr>\n",
       "  </tbody>\n",
       "</table>\n",
       "</div>"
      ],
      "text/plain": [
       "   PassengerId  Pclass                                          Name     Sex  \\\n",
       "0          892       3                              Kelly, Mr. James    male   \n",
       "1          893       3              Wilkes, Mrs. James (Ellen Needs)  female   \n",
       "2          894       2                     Myles, Mr. Thomas Francis    male   \n",
       "3          895       3                              Wirz, Mr. Albert    male   \n",
       "4          896       3  Hirvonen, Mrs. Alexander (Helga E Lindqvist)  female   \n",
       "\n",
       "    Age  SibSp  Parch   Ticket     Fare Cabin Embarked  \n",
       "0  34.5      0      0   330911   7.8292   NaN        Q  \n",
       "1  47.0      1      0   363272   7.0000   NaN        S  \n",
       "2  62.0      0      0   240276   9.6875   NaN        Q  \n",
       "3  27.0      0      0   315154   8.6625   NaN        S  \n",
       "4  22.0      1      1  3101298  12.2875   NaN        S  "
      ]
     },
     "execution_count": 14,
     "metadata": {},
     "output_type": "execute_result"
    }
   ],
   "source": [
    "test.head()"
   ]
  },
  {
   "cell_type": "markdown",
   "metadata": {},
   "source": [
    "| Variable | Definition                                 | Key                                            |   |   |\n",
    "|----------|--------------------------------------------|------------------------------------------------|---|---|\n",
    "| survival | Survival                                   | 0 = No, 1 = Yes                                |   |   |\n",
    "| pclass   | Ticket class                               | 1 = 1st, 2 = 2nd, 3 = 3rd                      |   |   |\n",
    "| sex      | Sex                                        |                                                |   |   |\n",
    "| Age      | Age in years                               |                                                |   |   |\n",
    "| sibsp    | # of siblings / spouses aboard the Titanic |                                                |   |   |\n",
    "| parch    | # of parents / children aboard the Titanic |                                                |   |   |\n",
    "| ticket   | Ticket number                              |                                                |   |   |\n",
    "| fare     | Passenger fare                             |                                                |   |   |\n",
    "| cabin    | Cabin number                               |                                                |   |   |\n",
    "| embarked | Port of Embarkation                        | C = Cherbourg, Q = Queenstown, S = Southampton |   |   |"
   ]
  },
  {
   "cell_type": "code",
   "execution_count": 69,
   "metadata": {},
   "outputs": [],
   "source": [
    "titanic = pd.read_csv(\"data/titanic/train.csv\")\n",
    "test = pd.read_csv(\"data/titanic/test.csv\")\n",
    "\n",
    "# Convert categorical variable to numeric\n",
    "titanic[\"Sex_cleaned\"]=np.where(titanic[\"Sex\"]==\"male\",0,1)\n",
    "titanic[\"Embarked_cleaned\"]=np.where(titanic[\"Embarked\"]==\"S\",0,\n",
    "                                  np.where(titanic[\"Embarked\"]==\"C\",1,\n",
    "                                           np.where(titanic[\"Embarked\"]==\"Q\",2,3)\n",
    "                                          )\n",
    "                                 )\n",
    "test[\"Sex_cleaned\"]=np.where(test[\"Sex\"]==\"male\",0,1)\n",
    "test[\"Embarked_cleaned\"]=np.where(test[\"Embarked\"]==\"S\",0,\n",
    "                                  np.where(test[\"Embarked\"]==\"C\",1,\n",
    "                                           np.where(test[\"Embarked\"]==\"Q\",2,3)\n",
    "                                          )\n",
    "                                 )\n",
    "\n",
    "# Cleaning train of NaN\n",
    "titanic=titanic[[\n",
    "    \"Survived\",\n",
    "    \"Pclass\",\n",
    "    \"Sex_cleaned\",\n",
    "    \"Age\",\n",
    "    \"SibSp\",\n",
    "    \"Parch\",\n",
    "    \"Fare\",\n",
    "    \"Embarked_cleaned\"\n",
    "]].dropna(axis=0, how='any')\n",
    "\n",
    "#filling test's NaN, because we can't evaluate the number if it's NaN\n",
    "test=test[[\n",
    "    \"Pclass\",\n",
    "    \"Sex_cleaned\",\n",
    "    \"Age\",\n",
    "    \"SibSp\",\n",
    "    \"Parch\",\n",
    "    \"Fare\",\n",
    "    \"Embarked_cleaned\"\n",
    "]].fillna(value=0)\n",
    "\n",
    "# Split dataset in training and test datasets\n",
    "train, valid = train_test_split(titanic, test_size=0.2, random_state=int(time.time()))\n",
    "\n",
    "\n",
    "# Instantiate the classifier\n",
    "gnb = GaussianNB()\n",
    "\n",
    "used_features =[\n",
    "    \"Pclass\",\n",
    "    \"Sex_cleaned\",\n",
    "    \"Age\",\n",
    "    \"SibSp\",\n",
    "    \"Parch\",\n",
    "    \"Fare\",\n",
    "    \"Embarked_cleaned\"\n",
    "]\n",
    "\n",
    "X_train = train.loc[:, used_features]\n",
    "y_train = train.loc[:, 'Survived']\n",
    "X_valid = valid.loc[:, used_features]\n",
    "y_valid = valid.loc[:, 'Survived']"
   ]
  },
  {
   "cell_type": "code",
   "execution_count": 70,
   "metadata": {},
   "outputs": [],
   "source": [
    "gnb.fit(\n",
    "    X_train.values,\n",
    "    y_train\n",
    ")\n",
    "y_gnb = gnb.predict(X_valid)"
   ]
  },
  {
   "cell_type": "code",
   "execution_count": 71,
   "metadata": {},
   "outputs": [
    {
     "name": "stdout",
     "output_type": "stream",
     "text": [
      "              precision    recall  f1-score   support\n",
      "\n",
      "Not Survived       0.79      0.84      0.82        82\n",
      "    Survived       0.77      0.70      0.74        61\n",
      "\n",
      "    accuracy                           0.78       143\n",
      "   macro avg       0.78      0.77      0.78       143\n",
      "weighted avg       0.78      0.78      0.78       143\n",
      "\n"
     ]
    }
   ],
   "source": [
    "target_names = ['Not Survived', 'Survived']\n",
    "print(classification_report(y_valid, y_gnb, target_names=target_names))"
   ]
  },
  {
   "cell_type": "markdown",
   "metadata": {},
   "source": [
    "<p style=\"text-align: justify\">\n",
    "Now that we already  trained our model on train and validation data, let's classify the test data and see if your model can make it to the top 10% of the competition!\n",
    "</p>"
   ]
  },
  {
   "cell_type": "code",
   "execution_count": 87,
   "metadata": {},
   "outputs": [],
   "source": [
    "y_gnb_test = gnb.predict(test[used_features])\n",
    "submission = pd.read_csv('data/titanic/test.csv')\n",
    "submission['Survived'] = y_gnb_test"
   ]
  },
  {
   "cell_type": "code",
   "execution_count": 88,
   "metadata": {},
   "outputs": [
    {
     "data": {
      "text/html": [
       "<div>\n",
       "<style scoped>\n",
       "    .dataframe tbody tr th:only-of-type {\n",
       "        vertical-align: middle;\n",
       "    }\n",
       "\n",
       "    .dataframe tbody tr th {\n",
       "        vertical-align: top;\n",
       "    }\n",
       "\n",
       "    .dataframe thead th {\n",
       "        text-align: right;\n",
       "    }\n",
       "</style>\n",
       "<table border=\"1\" class=\"dataframe\">\n",
       "  <thead>\n",
       "    <tr style=\"text-align: right;\">\n",
       "      <th></th>\n",
       "      <th>PassengerId</th>\n",
       "      <th>Survived</th>\n",
       "    </tr>\n",
       "  </thead>\n",
       "  <tbody>\n",
       "    <tr>\n",
       "      <td>0</td>\n",
       "      <td>892</td>\n",
       "      <td>0</td>\n",
       "    </tr>\n",
       "    <tr>\n",
       "      <td>1</td>\n",
       "      <td>893</td>\n",
       "      <td>1</td>\n",
       "    </tr>\n",
       "    <tr>\n",
       "      <td>2</td>\n",
       "      <td>894</td>\n",
       "      <td>1</td>\n",
       "    </tr>\n",
       "    <tr>\n",
       "      <td>3</td>\n",
       "      <td>895</td>\n",
       "      <td>0</td>\n",
       "    </tr>\n",
       "    <tr>\n",
       "      <td>4</td>\n",
       "      <td>896</td>\n",
       "      <td>1</td>\n",
       "    </tr>\n",
       "  </tbody>\n",
       "</table>\n",
       "</div>"
      ],
      "text/plain": [
       "   PassengerId  Survived\n",
       "0          892         0\n",
       "1          893         1\n",
       "2          894         1\n",
       "3          895         0\n",
       "4          896         1"
      ]
     },
     "execution_count": 88,
     "metadata": {},
     "output_type": "execute_result"
    }
   ],
   "source": [
    "submission = submission[['PassengerId', 'Survived']]\n",
    "submission.head()"
   ]
  },
  {
   "cell_type": "code",
   "execution_count": 86,
   "metadata": {},
   "outputs": [],
   "source": [
    "submission.to_csv('submission.csv', index=False)"
   ]
  },
  {
   "cell_type": "markdown",
   "metadata": {},
   "source": [
    "You have generated the submission file, now upload it and see the result ! for your convenience, I already uploaded it for you, heres the result"
   ]
  },
  {
   "cell_type": "markdown",
   "metadata": {},
   "source": [
    "![](res/titanic-gnb.PNG)"
   ]
  },
  {
   "cell_type": "markdown",
   "metadata": {},
   "source": [
    "70% accuracy is not bad, right ? wrong. This is competition, model interpretations is not priority. We can create more complex model later that could gives more performance. \n",
    "\n",
    "Stay on your line !"
   ]
  },
  {
   "cell_type": "markdown",
   "metadata": {},
   "source": [
    "## Bernoulli Naive Bayes"
   ]
  },
  {
   "cell_type": "markdown",
   "metadata": {},
   "source": [
    "<p style=\"text-align: justify\">\n",
    "The Bernoulli Naive Bayes Classifier is best used for **binomial data**. This algorithm measure the probability of binomial data using Bernoulli distribution. Just like the Multinomial Naive Bayes, this algorithm is commonly used for text classification. The difference is, instead of using \"frequency\", this algorithm most suited for data wich using binary value such as \"the document contain word A or not\". To measure the probability is shown below:\n",
    "    </p>"
   ]
  },
  {
   "cell_type": "markdown",
   "metadata": {},
   "source": [
    "$$\n",
    "\\begin{equation}\n",
    "    P(x_i = v | c_k ) = P(x_i|c_k)\\times v + (1-P(x_i|c_k)) \\times (1-v)\n",
    "\\tag{6}\n",
    "\\end{equation}\n",
    "$$"
   ]
  },
  {
   "cell_type": "markdown",
   "metadata": {},
   "source": [
    "where \n",
    "- $v$ is $\\{0,1\\}$, denoting the occurence of variable $x_i$ in current document\n",
    "- $P(x_i|c_k)$ is the probability of how much the class k that contain the variable $x_i$ (where $x_i = 1$).\n",
    "\n",
    "Unlinke Multinomial Naive Bayes, this algorithm take the absence of variable into accounts."
   ]
  },
  {
   "cell_type": "markdown",
   "metadata": {},
   "source": [
    "Let's use the previous data in Multinomial Naive Bayes, [Amazon Employee Access](https://www.kaggle.com/c/amazon-employee-access-challenge/data)."
   ]
  },
  {
   "cell_type": "code",
   "execution_count": 21,
   "metadata": {},
   "outputs": [],
   "source": [
    "employee = pd.read_csv('data/amazon-employee-access-challenge/train.csv')\n",
    "dummy_employee = pd.get_dummies(employee.loc[:, employee.columns != 'ACTION'].astype(str))\n",
    "dummy_employee['ACTION'] = employee['ACTION']"
   ]
  },
  {
   "cell_type": "code",
   "execution_count": 28,
   "metadata": {},
   "outputs": [],
   "source": [
    "train, valid = train_test_split(dummy_employee, test_size=0.2, random_state=int(time.time()))\n",
    "X_train = train.drop(columns=['ACTION'])\n",
    "y_train = train.loc[:, 'ACTION']\n",
    "X_valid = valid.drop(columns=['ACTION'])\n",
    "y_valid = valid.loc[:, 'ACTION']"
   ]
  },
  {
   "cell_type": "code",
   "execution_count": 30,
   "metadata": {},
   "outputs": [
    {
     "name": "stdout",
     "output_type": "stream",
     "text": [
      "(26215, 15626) (26215,) (6554, 15626) (6554,)\n"
     ]
    }
   ],
   "source": [
    "print(X_train.shape, y_train.shape,  X_valid.shape, y_valid.shape)"
   ]
  },
  {
   "cell_type": "code",
   "execution_count": 25,
   "metadata": {},
   "outputs": [
    {
     "data": {
      "text/html": [
       "<div>\n",
       "<style scoped>\n",
       "    .dataframe tbody tr th:only-of-type {\n",
       "        vertical-align: middle;\n",
       "    }\n",
       "\n",
       "    .dataframe tbody tr th {\n",
       "        vertical-align: top;\n",
       "    }\n",
       "\n",
       "    .dataframe thead th {\n",
       "        text-align: right;\n",
       "    }\n",
       "</style>\n",
       "<table border=\"1\" class=\"dataframe\">\n",
       "  <thead>\n",
       "    <tr style=\"text-align: right;\">\n",
       "      <th></th>\n",
       "      <th>RESOURCE_0</th>\n",
       "      <th>RESOURCE_100003</th>\n",
       "      <th>RESOURCE_100028</th>\n",
       "      <th>RESOURCE_100031</th>\n",
       "      <th>RESOURCE_100037</th>\n",
       "      <th>RESOURCE_100038</th>\n",
       "      <th>RESOURCE_100039</th>\n",
       "      <th>RESOURCE_1001</th>\n",
       "      <th>RESOURCE_1003</th>\n",
       "      <th>RESOURCE_100413</th>\n",
       "      <th>...</th>\n",
       "      <th>ROLE_CODE_216827</th>\n",
       "      <th>ROLE_CODE_239004</th>\n",
       "      <th>ROLE_CODE_240105</th>\n",
       "      <th>ROLE_CODE_247660</th>\n",
       "      <th>ROLE_CODE_254396</th>\n",
       "      <th>ROLE_CODE_258436</th>\n",
       "      <th>ROLE_CODE_266863</th>\n",
       "      <th>ROLE_CODE_268610</th>\n",
       "      <th>ROLE_CODE_270691</th>\n",
       "      <th>ACTION</th>\n",
       "    </tr>\n",
       "  </thead>\n",
       "  <tbody>\n",
       "    <tr>\n",
       "      <td>3581</td>\n",
       "      <td>0</td>\n",
       "      <td>0</td>\n",
       "      <td>0</td>\n",
       "      <td>0</td>\n",
       "      <td>0</td>\n",
       "      <td>0</td>\n",
       "      <td>0</td>\n",
       "      <td>0</td>\n",
       "      <td>0</td>\n",
       "      <td>0</td>\n",
       "      <td>...</td>\n",
       "      <td>0</td>\n",
       "      <td>0</td>\n",
       "      <td>0</td>\n",
       "      <td>0</td>\n",
       "      <td>0</td>\n",
       "      <td>0</td>\n",
       "      <td>0</td>\n",
       "      <td>0</td>\n",
       "      <td>0</td>\n",
       "      <td>1</td>\n",
       "    </tr>\n",
       "    <tr>\n",
       "      <td>3768</td>\n",
       "      <td>0</td>\n",
       "      <td>0</td>\n",
       "      <td>0</td>\n",
       "      <td>0</td>\n",
       "      <td>0</td>\n",
       "      <td>0</td>\n",
       "      <td>0</td>\n",
       "      <td>0</td>\n",
       "      <td>0</td>\n",
       "      <td>0</td>\n",
       "      <td>...</td>\n",
       "      <td>0</td>\n",
       "      <td>0</td>\n",
       "      <td>0</td>\n",
       "      <td>0</td>\n",
       "      <td>0</td>\n",
       "      <td>0</td>\n",
       "      <td>0</td>\n",
       "      <td>0</td>\n",
       "      <td>0</td>\n",
       "      <td>1</td>\n",
       "    </tr>\n",
       "    <tr>\n",
       "      <td>25132</td>\n",
       "      <td>0</td>\n",
       "      <td>0</td>\n",
       "      <td>0</td>\n",
       "      <td>0</td>\n",
       "      <td>0</td>\n",
       "      <td>0</td>\n",
       "      <td>0</td>\n",
       "      <td>0</td>\n",
       "      <td>0</td>\n",
       "      <td>0</td>\n",
       "      <td>...</td>\n",
       "      <td>0</td>\n",
       "      <td>0</td>\n",
       "      <td>0</td>\n",
       "      <td>0</td>\n",
       "      <td>0</td>\n",
       "      <td>0</td>\n",
       "      <td>0</td>\n",
       "      <td>0</td>\n",
       "      <td>0</td>\n",
       "      <td>1</td>\n",
       "    </tr>\n",
       "    <tr>\n",
       "      <td>30253</td>\n",
       "      <td>0</td>\n",
       "      <td>0</td>\n",
       "      <td>0</td>\n",
       "      <td>0</td>\n",
       "      <td>0</td>\n",
       "      <td>0</td>\n",
       "      <td>0</td>\n",
       "      <td>0</td>\n",
       "      <td>0</td>\n",
       "      <td>0</td>\n",
       "      <td>...</td>\n",
       "      <td>0</td>\n",
       "      <td>0</td>\n",
       "      <td>0</td>\n",
       "      <td>0</td>\n",
       "      <td>0</td>\n",
       "      <td>0</td>\n",
       "      <td>0</td>\n",
       "      <td>0</td>\n",
       "      <td>0</td>\n",
       "      <td>1</td>\n",
       "    </tr>\n",
       "    <tr>\n",
       "      <td>28167</td>\n",
       "      <td>0</td>\n",
       "      <td>0</td>\n",
       "      <td>0</td>\n",
       "      <td>0</td>\n",
       "      <td>0</td>\n",
       "      <td>0</td>\n",
       "      <td>0</td>\n",
       "      <td>0</td>\n",
       "      <td>0</td>\n",
       "      <td>0</td>\n",
       "      <td>...</td>\n",
       "      <td>0</td>\n",
       "      <td>0</td>\n",
       "      <td>0</td>\n",
       "      <td>0</td>\n",
       "      <td>0</td>\n",
       "      <td>0</td>\n",
       "      <td>0</td>\n",
       "      <td>0</td>\n",
       "      <td>0</td>\n",
       "      <td>1</td>\n",
       "    </tr>\n",
       "  </tbody>\n",
       "</table>\n",
       "<p>5 rows × 15627 columns</p>\n",
       "</div>"
      ],
      "text/plain": [
       "       RESOURCE_0  RESOURCE_100003  RESOURCE_100028  RESOURCE_100031  \\\n",
       "3581            0                0                0                0   \n",
       "3768            0                0                0                0   \n",
       "25132           0                0                0                0   \n",
       "30253           0                0                0                0   \n",
       "28167           0                0                0                0   \n",
       "\n",
       "       RESOURCE_100037  RESOURCE_100038  RESOURCE_100039  RESOURCE_1001  \\\n",
       "3581                 0                0                0              0   \n",
       "3768                 0                0                0              0   \n",
       "25132                0                0                0              0   \n",
       "30253                0                0                0              0   \n",
       "28167                0                0                0              0   \n",
       "\n",
       "       RESOURCE_1003  RESOURCE_100413  ...  ROLE_CODE_216827  \\\n",
       "3581               0                0  ...                 0   \n",
       "3768               0                0  ...                 0   \n",
       "25132              0                0  ...                 0   \n",
       "30253              0                0  ...                 0   \n",
       "28167              0                0  ...                 0   \n",
       "\n",
       "       ROLE_CODE_239004  ROLE_CODE_240105  ROLE_CODE_247660  ROLE_CODE_254396  \\\n",
       "3581                  0                 0                 0                 0   \n",
       "3768                  0                 0                 0                 0   \n",
       "25132                 0                 0                 0                 0   \n",
       "30253                 0                 0                 0                 0   \n",
       "28167                 0                 0                 0                 0   \n",
       "\n",
       "       ROLE_CODE_258436  ROLE_CODE_266863  ROLE_CODE_268610  ROLE_CODE_270691  \\\n",
       "3581                  0                 0                 0                 0   \n",
       "3768                  0                 0                 0                 0   \n",
       "25132                 0                 0                 0                 0   \n",
       "30253                 0                 0                 0                 0   \n",
       "28167                 0                 0                 0                 0   \n",
       "\n",
       "       ACTION  \n",
       "3581        1  \n",
       "3768        1  \n",
       "25132       1  \n",
       "30253       1  \n",
       "28167       1  \n",
       "\n",
       "[5 rows x 15627 columns]"
      ]
     },
     "execution_count": 25,
     "metadata": {},
     "output_type": "execute_result"
    }
   ],
   "source": [
    "train.head()"
   ]
  },
  {
   "cell_type": "markdown",
   "metadata": {},
   "source": [
    "<p style=\"text-align: justify\">\n",
    "From the example above, we've changed the dataframe into one-hot encoding to make it binomial. What you need to concern is, the predictors of training data, validation data, and test data should be the same. \n",
    "\n",
    "In previous section (gaussian NB) we already did feature selection from data test to match the feature of training and validation data. For now, we will not try to match the feature of data test, so we can't use the model to predict the test due to its not as simple as one-hot-encoding the data test.\n",
    "\n",
    "</p>"
   ]
  },
  {
   "cell_type": "code",
   "execution_count": 36,
   "metadata": {},
   "outputs": [],
   "source": [
    "bnb = BernoulliNB()"
   ]
  },
  {
   "cell_type": "code",
   "execution_count": 37,
   "metadata": {},
   "outputs": [],
   "source": [
    "bnb.fit(\n",
    "    X_train.values,\n",
    "    y_train\n",
    ")\n",
    "y_bnb = bnb.predict(X_valid)"
   ]
  },
  {
   "cell_type": "code",
   "execution_count": 35,
   "metadata": {},
   "outputs": [
    {
     "name": "stdout",
     "output_type": "stream",
     "text": [
      "              precision    recall  f1-score   support\n",
      "\n",
      "     Class 0       0.38      0.10      0.15       369\n",
      "     Class 1       0.95      0.99      0.97      6185\n",
      "\n",
      "    accuracy                           0.94      6554\n",
      "   macro avg       0.66      0.54      0.56      6554\n",
      "weighted avg       0.92      0.94      0.92      6554\n",
      "\n"
     ]
    }
   ],
   "source": [
    "target_names = ['Class 0', 'Class 1']\n",
    "print(classification_report(y_valid, y_bnb, target_names=target_names))"
   ]
  },
  {
   "cell_type": "markdown",
   "metadata": {},
   "source": [
    "## Summary"
   ]
  },
  {
   "cell_type": "markdown",
   "metadata": {},
   "source": [
    "### Pros :\n",
    "\n",
    "- Computationally cheap ( O(1) )\n",
    "- Easy to implement\n",
    "- Works well with small datasets\n",
    "- Works well with high dimensions\n",
    "- Perform well even if the Naive Assumption is not perfectly met. In many cases, the approximation is enough to build a good classifier."
   ]
  },
  {
   "cell_type": "markdown",
   "metadata": {},
   "source": [
    "### Cons : \n",
    "- Require to remove correlated features because they are voted twice in the model and it can lead to over inflating importance.\n"
   ]
  },
  {
   "cell_type": "markdown",
   "metadata": {},
   "source": [
    "Sources : \n",
    "\n",
    "Use of machine learning :\n",
    "[google](https://developers.google.com/machine-learning/problem-framing/cases)\n",
    "\n",
    "Naive Bayes:\n",
    "[Nb1](https://jakevdp.github.io/PythonDataScienceHandbook/06.00-figure-code.html#Gaussian-Naive-Bayes), \n",
    "[sicara](https://www.sicara.ai/blog/2018-02-28-naive-bayes-classification-sklearn)\n",
    "[kamalnigam](www.kamalnigam.com/papers/multinomial-aaaiws98.pdf)\n",
    "[Wikipedia](https://en.wikipedia.org/wiki/Naive_Bayes_classifier#Bernoulli_naive_Bayes)\n",
    "\n",
    "\n"
   ]
  },
  {
   "cell_type": "code",
   "execution_count": null,
   "metadata": {},
   "outputs": [],
   "source": []
  }
 ],
 "metadata": {
  "kernelspec": {
   "display_name": "Python 3",
   "language": "python",
   "name": "python3"
  },
  "language_info": {
   "codemirror_mode": {
    "name": "ipython",
    "version": 3
   },
   "file_extension": ".py",
   "mimetype": "text/x-python",
   "name": "python",
   "nbconvert_exporter": "python",
   "pygments_lexer": "ipython3",
   "version": "3.7.3"
  },
  "toc": {
   "base_numbering": 1,
   "nav_menu": {},
   "number_sections": true,
   "sideBar": true,
   "skip_h1_title": false,
   "title_cell": "Table of Contents",
   "title_sidebar": "Contents",
   "toc_cell": false,
   "toc_position": {},
   "toc_section_display": true,
   "toc_window_display": true
  },
  "varInspector": {
   "cols": {
    "lenName": 16,
    "lenType": 16,
    "lenVar": 40
   },
   "kernels_config": {
    "python": {
     "delete_cmd_postfix": "",
     "delete_cmd_prefix": "del ",
     "library": "var_list.py",
     "varRefreshCmd": "print(var_dic_list())"
    },
    "r": {
     "delete_cmd_postfix": ") ",
     "delete_cmd_prefix": "rm(",
     "library": "var_list.r",
     "varRefreshCmd": "cat(var_dic_list()) "
    }
   },
   "types_to_exclude": [
    "module",
    "function",
    "builtin_function_or_method",
    "instance",
    "_Feature"
   ],
   "window_display": false
  }
 },
 "nbformat": 4,
 "nbformat_minor": 2
}
